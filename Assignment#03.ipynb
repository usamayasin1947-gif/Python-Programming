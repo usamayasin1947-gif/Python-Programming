{
 "cells": [
  {
   "cell_type": "code",
   "execution_count": 4,
   "metadata": {},
   "outputs": [
    {
     "name": "stdout",
     "output_type": "stream",
     "text": [
      "1. Addition\n",
      "2. Subtraction\n",
      "3. Multiplication\n",
      "4. Division\n",
      "5. Power\n",
      "Enter your choice: 5\n",
      "Enter two numbers: \n",
      "2\n",
      "3\n",
      "Result =  8\n"
     ]
    }
   ],
   "source": [
    "print(\"1. Addition\");\n",
    "print(\"2. Subtraction\");\n",
    "print(\"3. Multiplication\");\n",
    "print(\"4. Division\");\n",
    "print(\"5. Power\");\n",
    "\n",
    "choice = int(input(\"Enter your choice: \"));\n",
    "if (choice>=1 and choice<=5):\n",
    "    print(\"Enter two numbers: \");\n",
    "    num1 = int(input());\n",
    "    num2 = int(input());\n",
    "    if choice == 1:\n",
    "        res = num1 + num2;\n",
    "        print(\"Result = \", res);\n",
    "    elif choice == 2:\n",
    "        res = num1 - num2;\n",
    "        print(\"Result = \", res);\n",
    "    elif choice == 3:\n",
    "        res = num1 * num2;\n",
    "        print(\"Result = \", res);\n",
    "    elif choice ==4:\n",
    "        res = num1 / num2;\n",
    "        print(\"Result = \", res);\n",
    "    elif choice ==5:\n",
    "        res =pow(num1,num2);\n",
    "        print(\"Result = \", res);\n",
    "        \n",
    "    \n",
    "else:\n",
    "    print(\"Wrong input..!!\");"
   ]
  },
  {
   "cell_type": "code",
   "execution_count": 14,
   "metadata": {},
   "outputs": [
    {
     "name": "stdout",
     "output_type": "stream",
     "text": [
      "Element Exists\n"
     ]
    }
   ],
   "source": [
    "list = [ \"osama\", \"YAsin\", \"ABC\", 5 ]\n",
    "\n",
    "# Checking if 5 exists in list  \n",
    "# using loo p\n",
    "for i in list: \n",
    "    if(i == 5) : \n",
    "        print (\"Element Exists\") "
   ]
  },
  {
   "cell_type": "code",
   "execution_count": 24,
   "metadata": {},
   "outputs": [
    {
     "name": "stdout",
     "output_type": "stream",
     "text": [
      "Current Dict is:  {'key1': 'Osama', 'key2': 'Yasin'}\n",
      "Now Dict is:  {'key1': 'Osama', 'key2': 'Yasin', 'key3': 'Abbasi'}\n"
     ]
    }
   ],
   "source": [
    "\n",
    "dict = {\"key1\":\"Osama\", \"key2\":\"Yasin\"} \n",
    "print(\"Current Dict is: \", dict)\n",
    "dict[\"key3\"]=\"Abbasi\"\n",
    "print(\"Now Dict is: \", dict)"
   ]
  },
  {
   "cell_type": "code",
   "execution_count": 25,
   "metadata": {},
   "outputs": [
    {
     "name": "stdout",
     "output_type": "stream",
     "text": [
      "293\n"
     ]
    }
   ],
   "source": [
    "my_dict = {'data1':100,'data2':-54,'data3':247}\n",
    "print(sum(my_dict.values()))"
   ]
  },
  {
   "cell_type": "code",
   "execution_count": 10,
   "metadata": {},
   "outputs": [
    {
     "name": "stdout",
     "output_type": "stream",
     "text": [
      "Yes, list contains duplicates\n"
     ]
    }
   ],
   "source": [
    "listOfElems = ['Hello', 'Ok', 'is', 'Ok', 'test', 'this', 'is', 'a', 'test']\n",
    "\n",
    "def checkIfDuplicates_1(listOfElems):\n",
    "    \n",
    "    if len(listOfElems) == len(set(listOfElems)):\n",
    "        return False\n",
    "    else:\n",
    "        return True\n",
    "    \n",
    "    \n",
    "result = checkIfDuplicates_1(listOfElems)\n",
    " \n",
    "if result:\n",
    "    print('Yes, list contains duplicates')\n",
    "else:\n",
    "    print('No duplicates found in list')"
   ]
  },
  {
   "cell_type": "code",
   "execution_count": 6,
   "metadata": {},
   "outputs": [
    {
     "name": "stdout",
     "output_type": "stream",
     "text": [
      "Enter the key you check:name1\n",
      "Key is present:\n",
      "Osama\n"
     ]
    }
   ],
   "source": [
    "dict = {\"name1\":\"Osama\", \"name2\":\"Yasin\"} \n",
    "user=input(\"Enter the key you check:\")\n",
    "if user in dict:\n",
    "    print(\"Key is present:\")\n",
    "    #print(dict.get(user)) ###\n",
    "    print(dict[user])\n",
    "else:\n",
    "    print(\"key is note present\")"
   ]
  },
  {
   "cell_type": "code",
   "execution_count": null,
   "metadata": {},
   "outputs": [],
   "source": []
  },
  {
   "cell_type": "code",
   "execution_count": null,
   "metadata": {},
   "outputs": [],
   "source": []
  }
 ],
 "metadata": {
  "kernelspec": {
   "display_name": "Python 3",
   "language": "python",
   "name": "python3"
  },
  "language_info": {
   "codemirror_mode": {
    "name": "ipython",
    "version": 3
   },
   "file_extension": ".py",
   "mimetype": "text/x-python",
   "name": "python",
   "nbconvert_exporter": "python",
   "pygments_lexer": "ipython3",
   "version": "3.7.4"
  }
 },
 "nbformat": 4,
 "nbformat_minor": 2
}
